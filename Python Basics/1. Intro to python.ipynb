{
 "cells": [
  {
   "cell_type": "markdown",
   "id": "616b48d5",
   "metadata": {},
   "source": [
    "# Comments"
   ]
  },
  {
   "cell_type": "code",
   "execution_count": 1,
   "id": "ab332eb9",
   "metadata": {},
   "outputs": [],
   "source": [
    "# This is a single line comment."
   ]
  },
  {
   "cell_type": "code",
   "execution_count": 2,
   "id": "7d22c4fd",
   "metadata": {},
   "outputs": [
    {
     "data": {
      "text/plain": [
       "'\\nThis is a\\nmultiline comment.\\n'"
      ]
     },
     "execution_count": 2,
     "metadata": {},
     "output_type": "execute_result"
    }
   ],
   "source": [
    "'''\n",
    "This is a\n",
    "multiline comment.\n",
    "'''"
   ]
  },
  {
   "cell_type": "code",
   "execution_count": 3,
   "id": "982fc270",
   "metadata": {},
   "outputs": [
    {
     "data": {
      "text/plain": [
       "'\\nThis is also a\\nmultiline comment\\n'"
      ]
     },
     "execution_count": 3,
     "metadata": {},
     "output_type": "execute_result"
    }
   ],
   "source": [
    "\"\"\"\n",
    "This is also a\n",
    "multiline comment\n",
    "\"\"\""
   ]
  },
  {
   "cell_type": "markdown",
   "id": "5530a480",
   "metadata": {},
   "source": [
    "# Print Statement"
   ]
  },
  {
   "cell_type": "code",
   "execution_count": 4,
   "id": "cc5569b4",
   "metadata": {},
   "outputs": [
    {
     "name": "stdout",
     "output_type": "stream",
     "text": [
      "2\n"
     ]
    }
   ],
   "source": [
    "print(2)"
   ]
  },
  {
   "cell_type": "code",
   "execution_count": 7,
   "id": "2fec2a27",
   "metadata": {},
   "outputs": [
    {
     "name": "stdout",
     "output_type": "stream",
     "text": [
      "2\n"
     ]
    }
   ],
   "source": [
    "print('2')"
   ]
  },
  {
   "cell_type": "code",
   "execution_count": 8,
   "id": "f6f11e89",
   "metadata": {},
   "outputs": [
    {
     "name": "stdout",
     "output_type": "stream",
     "text": [
      "7.5\n"
     ]
    }
   ],
   "source": [
    "print(7.5)"
   ]
  },
  {
   "cell_type": "code",
   "execution_count": 5,
   "id": "358142f9",
   "metadata": {},
   "outputs": [
    {
     "name": "stdout",
     "output_type": "stream",
     "text": [
      "sai preetham\n"
     ]
    }
   ],
   "source": [
    "print('sai preetham')"
   ]
  },
  {
   "cell_type": "code",
   "execution_count": 6,
   "id": "c7940d80",
   "metadata": {},
   "outputs": [
    {
     "name": "stdout",
     "output_type": "stream",
     "text": [
      "krishna chaitanya\n"
     ]
    }
   ],
   "source": [
    "print(\"krishna chaitanya\")"
   ]
  },
  {
   "cell_type": "markdown",
   "id": "52dc3635",
   "metadata": {},
   "source": [
    "# User Input"
   ]
  },
  {
   "cell_type": "code",
   "execution_count": 15,
   "id": "f551f51f",
   "metadata": {},
   "outputs": [
    {
     "data": {
      "text/plain": [
       "'35'"
      ]
     },
     "execution_count": 15,
     "metadata": {},
     "output_type": "execute_result"
    }
   ],
   "source": [
    "input()          # reading input"
   ]
  },
  {
   "cell_type": "code",
   "execution_count": null,
   "id": "b7f2f138",
   "metadata": {},
   "outputs": [],
   "source": [
    "i = input()        # storing input"
   ]
  },
  {
   "cell_type": "code",
   "execution_count": null,
   "id": "ee4d4bd9",
   "metadata": {},
   "outputs": [
    {
     "name": "stdout",
     "output_type": "stream",
     "text": [
      "hello $@! **7\n"
     ]
    }
   ],
   "source": [
    "print(i)        # print the input"
   ]
  },
  {
   "cell_type": "code",
   "execution_count": 19,
   "id": "15070a24",
   "metadata": {},
   "outputs": [
    {
     "name": "stdout",
     "output_type": "stream",
     "text": [
      "Srujana\n"
     ]
    }
   ],
   "source": [
    "i = input(\"Enter Student Name : \")\n",
    "\n",
    "print(i)"
   ]
  }
 ],
 "metadata": {
  "kernelspec": {
   "display_name": ".venv",
   "language": "python",
   "name": "python3"
  },
  "language_info": {
   "codemirror_mode": {
    "name": "ipython",
    "version": 3
   },
   "file_extension": ".py",
   "mimetype": "text/x-python",
   "name": "python",
   "nbconvert_exporter": "python",
   "pygments_lexer": "ipython3",
   "version": "3.13.7"
  }
 },
 "nbformat": 4,
 "nbformat_minor": 5
}
