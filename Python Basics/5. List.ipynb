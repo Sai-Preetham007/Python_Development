{
 "cells": [
  {
   "cell_type": "markdown",
   "id": "feed67d7",
   "metadata": {},
   "source": [
    "### Creating a List"
   ]
  },
  {
   "cell_type": "code",
   "execution_count": 1,
   "id": "fb621ba3",
   "metadata": {},
   "outputs": [
    {
     "name": "stdout",
     "output_type": "stream",
     "text": [
      "<class 'list'>\n"
     ]
    }
   ],
   "source": [
    "x = []\n",
    "\n",
    "print(type(x))"
   ]
  },
  {
   "cell_type": "code",
   "execution_count": 2,
   "id": "0bff3aca",
   "metadata": {},
   "outputs": [
    {
     "name": "stdout",
     "output_type": "stream",
     "text": [
      "['Rihan', 'Deepthi', 'Kezya', 'Srujana', 'Varsha']\n"
     ]
    }
   ],
   "source": [
    "students = [\"Rihan\", \"Deepthi\", \"Kezya\", \"Srujana\", \"Varsha\"]\n",
    "\n",
    "print(students)"
   ]
  },
  {
   "cell_type": "markdown",
   "id": "b82202c4",
   "metadata": {},
   "source": [
    "### Accessing the elements in a list using index values"
   ]
  },
  {
   "cell_type": "code",
   "execution_count": 3,
   "id": "8c7251e1",
   "metadata": {},
   "outputs": [
    {
     "data": {
      "text/plain": [
       "'Rihan'"
      ]
     },
     "execution_count": 3,
     "metadata": {},
     "output_type": "execute_result"
    }
   ],
   "source": [
    "students[0]"
   ]
  },
  {
   "cell_type": "code",
   "execution_count": 4,
   "id": "eafce357",
   "metadata": {},
   "outputs": [
    {
     "data": {
      "text/plain": [
       "'Varsha'"
      ]
     },
     "execution_count": 4,
     "metadata": {},
     "output_type": "execute_result"
    }
   ],
   "source": [
    "students[-1]         # students[len(students) - 1]"
   ]
  },
  {
   "cell_type": "code",
   "execution_count": 5,
   "id": "3d432f27",
   "metadata": {},
   "outputs": [],
   "source": [
    "# students[len(students)]"
   ]
  },
  {
   "cell_type": "markdown",
   "id": "645a551b",
   "metadata": {},
   "source": [
    "### Accessing a group of elements in a list using slicing"
   ]
  },
  {
   "cell_type": "code",
   "execution_count": 6,
   "id": "073410cd",
   "metadata": {},
   "outputs": [
    {
     "data": {
      "text/plain": [
       "['Kezya', 'Srujana']"
      ]
     },
     "execution_count": 6,
     "metadata": {},
     "output_type": "execute_result"
    }
   ],
   "source": [
    "students[2:4]"
   ]
  },
  {
   "cell_type": "code",
   "execution_count": 7,
   "id": "c239c930",
   "metadata": {},
   "outputs": [
    {
     "data": {
      "text/plain": [
       "['Kezya', 'Srujana', 'Varsha']"
      ]
     },
     "execution_count": 7,
     "metadata": {},
     "output_type": "execute_result"
    }
   ],
   "source": [
    "students[2:]"
   ]
  },
  {
   "cell_type": "code",
   "execution_count": 8,
   "id": "751f1c1a",
   "metadata": {},
   "outputs": [
    {
     "data": {
      "text/plain": [
       "['Rihan', 'Deepthi', 'Kezya']"
      ]
     },
     "execution_count": 8,
     "metadata": {},
     "output_type": "execute_result"
    }
   ],
   "source": [
    "students[:3]"
   ]
  },
  {
   "cell_type": "code",
   "execution_count": 9,
   "id": "8943d27c",
   "metadata": {},
   "outputs": [
    {
     "data": {
      "text/plain": [
       "'Varsha'"
      ]
     },
     "execution_count": 9,
     "metadata": {},
     "output_type": "execute_result"
    }
   ],
   "source": [
    "students[len(students) - 1]              # students[-1]"
   ]
  },
  {
   "cell_type": "code",
   "execution_count": 10,
   "id": "e5bdeb52",
   "metadata": {},
   "outputs": [
    {
     "data": {
      "text/plain": [
       "[]"
      ]
     },
     "execution_count": 10,
     "metadata": {},
     "output_type": "execute_result"
    }
   ],
   "source": [
    "students[len(students) : 0]"
   ]
  },
  {
   "cell_type": "code",
   "execution_count": 11,
   "id": "a37f9aeb",
   "metadata": {},
   "outputs": [
    {
     "data": {
      "text/plain": [
       "['Deepthi', 'Kezya', 'Srujana', 'Varsha']"
      ]
     },
     "execution_count": 11,
     "metadata": {},
     "output_type": "execute_result"
    }
   ],
   "source": [
    "students[1 : 10]"
   ]
  },
  {
   "cell_type": "code",
   "execution_count": 12,
   "id": "b13b8916",
   "metadata": {},
   "outputs": [
    {
     "data": {
      "text/plain": [
       "['Rihan', 'Deepthi', 'Kezya', 'Srujana', 'Varsha']"
      ]
     },
     "execution_count": 12,
     "metadata": {},
     "output_type": "execute_result"
    }
   ],
   "source": [
    "students"
   ]
  },
  {
   "cell_type": "code",
   "execution_count": 13,
   "id": "a8e04dda",
   "metadata": {},
   "outputs": [
    {
     "data": {
      "text/plain": [
       "['Varsha', 'Srujana', 'Kezya', 'Deepthi']"
      ]
     },
     "execution_count": 13,
     "metadata": {},
     "output_type": "execute_result"
    }
   ],
   "source": [
    "students[len(students) : 0 : -1]"
   ]
  },
  {
   "cell_type": "code",
   "execution_count": 14,
   "id": "f9b2faa2",
   "metadata": {},
   "outputs": [
    {
     "data": {
      "text/plain": [
       "['Varsha', 'Srujana', 'Kezya', 'Deepthi']"
      ]
     },
     "execution_count": 14,
     "metadata": {},
     "output_type": "execute_result"
    }
   ],
   "source": [
    "students[len(students)-1 : 0 : -1]"
   ]
  },
  {
   "cell_type": "code",
   "execution_count": 15,
   "id": "1c3d8e46",
   "metadata": {},
   "outputs": [
    {
     "data": {
      "text/plain": [
       "['Varsha', 'Srujana', 'Kezya', 'Deepthi', 'Rihan']"
      ]
     },
     "execution_count": 15,
     "metadata": {},
     "output_type": "execute_result"
    }
   ],
   "source": [
    "students[len(students)-1 : : -1]"
   ]
  },
  {
   "cell_type": "code",
   "execution_count": 16,
   "id": "d7969894",
   "metadata": {},
   "outputs": [
    {
     "data": {
      "text/plain": [
       "[]"
      ]
     },
     "execution_count": 16,
     "metadata": {},
     "output_type": "execute_result"
    }
   ],
   "source": [
    "students[0 : 0]"
   ]
  },
  {
   "cell_type": "code",
   "execution_count": 17,
   "id": "f0899d06",
   "metadata": {},
   "outputs": [
    {
     "data": {
      "text/plain": [
       "[]"
      ]
     },
     "execution_count": 17,
     "metadata": {},
     "output_type": "execute_result"
    }
   ],
   "source": [
    "students[len(students)-1 : -1 : -1]"
   ]
  },
  {
   "cell_type": "code",
   "execution_count": 18,
   "id": "1c8d94fc",
   "metadata": {},
   "outputs": [
    {
     "data": {
      "text/plain": [
       "['Varsha', 'Srujana', 'Kezya', 'Deepthi', 'Rihan']"
      ]
     },
     "execution_count": 18,
     "metadata": {},
     "output_type": "execute_result"
    }
   ],
   "source": [
    "students.reverse()\n",
    "students"
   ]
  },
  {
   "cell_type": "markdown",
   "id": "b5731375",
   "metadata": {},
   "source": [
    "### Modify list elements"
   ]
  },
  {
   "cell_type": "code",
   "execution_count": 19,
   "id": "33ec0c81",
   "metadata": {},
   "outputs": [
    {
     "data": {
      "text/plain": [
       "['VARSHA', 'Srujana', 'Kezya', 'Deepthi', 'Rihan']"
      ]
     },
     "execution_count": 19,
     "metadata": {},
     "output_type": "execute_result"
    }
   ],
   "source": [
    "students[0] = \"VARSHA\"\n",
    "\n",
    "students"
   ]
  },
  {
   "cell_type": "code",
   "execution_count": 20,
   "id": "d66a2b5e",
   "metadata": {},
   "outputs": [
    {
     "data": {
      "text/plain": [
       "'Rihan'"
      ]
     },
     "execution_count": 20,
     "metadata": {},
     "output_type": "execute_result"
    }
   ],
   "source": [
    "students[-1]"
   ]
  },
  {
   "cell_type": "code",
   "execution_count": 21,
   "id": "0f572c8c",
   "metadata": {},
   "outputs": [
    {
     "data": {
      "text/plain": [
       "['VARSHA', 'Srujana', 'RIHAN', 'Deepthi', 'Rihan']"
      ]
     },
     "execution_count": 21,
     "metadata": {},
     "output_type": "execute_result"
    }
   ],
   "source": [
    "students[-3] = students[-1].upper()\n",
    "\n",
    "students"
   ]
  },
  {
   "cell_type": "code",
   "execution_count": 22,
   "id": "bc8d3ebc",
   "metadata": {},
   "outputs": [
    {
     "data": {
      "text/plain": [
       "['VARSHA', 'Srujana', 'RIHAN', 'varsha', 'varsha']"
      ]
     },
     "execution_count": 22,
     "metadata": {},
     "output_type": "execute_result"
    }
   ],
   "source": [
    "students[-1] = students[0].lower()\n",
    "students[-2] = students[0].lower()\n",
    "\n",
    "students"
   ]
  },
  {
   "cell_type": "code",
   "execution_count": 23,
   "id": "2c72d5a3",
   "metadata": {},
   "outputs": [
    {
     "data": {
      "text/plain": [
       "['VARSHA', 'Srujana', 'RIHAN', 'srujana', 'srujana']"
      ]
     },
     "execution_count": 23,
     "metadata": {},
     "output_type": "execute_result"
    }
   ],
   "source": [
    "students[-1], students[-2] = students[1].lower(), students[1].lower()\n",
    "\n",
    "students"
   ]
  }
 ],
 "metadata": {
  "kernelspec": {
   "display_name": ".venv",
   "language": "python",
   "name": "python3"
  },
  "language_info": {
   "codemirror_mode": {
    "name": "ipython",
    "version": 3
   },
   "file_extension": ".py",
   "mimetype": "text/x-python",
   "name": "python",
   "nbconvert_exporter": "python",
   "pygments_lexer": "ipython3",
   "version": "3.13.7"
  }
 },
 "nbformat": 4,
 "nbformat_minor": 5
}
