{
 "cells": [
  {
   "cell_type": "code",
   "execution_count": 1,
   "id": "af602bdb",
   "metadata": {},
   "outputs": [
    {
     "name": "stdout",
     "output_type": "stream",
     "text": [
      "srujana\n"
     ]
    }
   ],
   "source": [
    "std_name = \"srujana\"\n",
    "\n",
    "print(std_name)"
   ]
  },
  {
   "cell_type": "markdown",
   "id": "d232ad47",
   "metadata": {},
   "source": [
    "### Accessing elements using index values"
   ]
  },
  {
   "cell_type": "code",
   "execution_count": 2,
   "id": "1cf09ddb",
   "metadata": {},
   "outputs": [
    {
     "name": "stdout",
     "output_type": "stream",
     "text": [
      "s\n"
     ]
    }
   ],
   "source": [
    "print(std_name[0])"
   ]
  },
  {
   "cell_type": "code",
   "execution_count": 3,
   "id": "a8141865",
   "metadata": {},
   "outputs": [
    {
     "name": "stdout",
     "output_type": "stream",
     "text": [
      "a\n"
     ]
    }
   ],
   "source": [
    "print(std_name[6])"
   ]
  },
  {
   "cell_type": "code",
   "execution_count": 4,
   "id": "74365a58",
   "metadata": {},
   "outputs": [
    {
     "name": "stdout",
     "output_type": "stream",
     "text": [
      "28\n"
     ]
    }
   ],
   "source": [
    "std = \"veera venkata satya narayana\"\n",
    "\n",
    "print(len(std))"
   ]
  },
  {
   "cell_type": "code",
   "execution_count": 5,
   "id": "4f5114f5",
   "metadata": {},
   "outputs": [
    {
     "name": "stdout",
     "output_type": "stream",
     "text": [
      "a\n"
     ]
    }
   ],
   "source": [
    "print(std[27])"
   ]
  },
  {
   "cell_type": "code",
   "execution_count": 6,
   "id": "b7c2f550",
   "metadata": {},
   "outputs": [
    {
     "name": "stdout",
     "output_type": "stream",
     "text": [
      "a\n"
     ]
    }
   ],
   "source": [
    "print(std[len(std) - 1])"
   ]
  },
  {
   "cell_type": "code",
   "execution_count": 7,
   "id": "71f803d1",
   "metadata": {},
   "outputs": [
    {
     "name": "stdout",
     "output_type": "stream",
     "text": [
      "a\n"
     ]
    }
   ],
   "source": [
    "print(std[-1])"
   ]
  },
  {
   "cell_type": "code",
   "execution_count": 8,
   "id": "81ce522d",
   "metadata": {},
   "outputs": [
    {
     "name": "stdout",
     "output_type": "stream",
     "text": [
      "n\n"
     ]
    }
   ],
   "source": [
    "print(std[-2])"
   ]
  },
  {
   "cell_type": "markdown",
   "id": "bc3543cd",
   "metadata": {},
   "source": [
    "### Accessing substring using slicing"
   ]
  },
  {
   "cell_type": "code",
   "execution_count": 9,
   "id": "735491c1",
   "metadata": {},
   "outputs": [
    {
     "name": "stdout",
     "output_type": "stream",
     "text": [
      "ve\n"
     ]
    }
   ],
   "source": [
    "print(std[0:2])"
   ]
  },
  {
   "cell_type": "code",
   "execution_count": 10,
   "id": "31efd0c7",
   "metadata": {},
   "outputs": [
    {
     "name": "stdout",
     "output_type": "stream",
     "text": [
      "ya nara\n"
     ]
    }
   ],
   "source": [
    "print(std[17:24])"
   ]
  },
  {
   "cell_type": "code",
   "execution_count": 11,
   "id": "d912003f",
   "metadata": {},
   "outputs": [
    {
     "name": "stdout",
     "output_type": "stream",
     "text": [
      "ayan\n"
     ]
    }
   ],
   "source": [
    "print(std[-5 : -1])"
   ]
  },
  {
   "cell_type": "code",
   "execution_count": 12,
   "id": "9f4d0951",
   "metadata": {},
   "outputs": [
    {
     "name": "stdout",
     "output_type": "stream",
     "text": [
      "\n"
     ]
    }
   ],
   "source": [
    "print(std[3:1])"
   ]
  },
  {
   "cell_type": "code",
   "execution_count": 13,
   "id": "c2ad6471",
   "metadata": {},
   "outputs": [
    {
     "name": "stdout",
     "output_type": "stream",
     "text": [
      "ra venkata satya naraya\n"
     ]
    }
   ],
   "source": [
    "print(std[3:-2])"
   ]
  },
  {
   "cell_type": "markdown",
   "id": "165c53a8",
   "metadata": {},
   "source": [
    "### Increment/Decrement"
   ]
  },
  {
   "cell_type": "code",
   "execution_count": 14,
   "id": "fc9e824c",
   "metadata": {},
   "outputs": [
    {
     "name": "stdout",
     "output_type": "stream",
     "text": [
      "veera venkata satya narayana\n"
     ]
    }
   ],
   "source": [
    "print(std)"
   ]
  },
  {
   "cell_type": "code",
   "execution_count": 15,
   "id": "29eb8adf",
   "metadata": {},
   "outputs": [
    {
     "name": "stdout",
     "output_type": "stream",
     "text": [
      "anayaran aytas ataknev aree\n"
     ]
    }
   ],
   "source": [
    "print(std[-1 : 0 : -1])"
   ]
  },
  {
   "cell_type": "code",
   "execution_count": 16,
   "id": "7152bf08",
   "metadata": {},
   "outputs": [
    {
     "name": "stdout",
     "output_type": "stream",
     "text": [
      "anayaran aytas ataknev areev\n"
     ]
    }
   ],
   "source": [
    "print(std[-1 : : -1])"
   ]
  },
  {
   "cell_type": "code",
   "execution_count": 17,
   "id": "dc1dd05e",
   "metadata": {},
   "outputs": [
    {
     "name": "stdout",
     "output_type": "stream",
     "text": [
      "anayaran aytas ataknev areev\n"
     ]
    }
   ],
   "source": [
    "print(std[ : : -1])"
   ]
  },
  {
   "cell_type": "code",
   "execution_count": 18,
   "id": "977dc5b9",
   "metadata": {},
   "outputs": [
    {
     "name": "stdout",
     "output_type": "stream",
     "text": [
      "veavnaastanryn\n"
     ]
    }
   ],
   "source": [
    "print(std[ : : 2])"
   ]
  },
  {
   "cell_type": "code",
   "execution_count": 19,
   "id": "cc26ef8c",
   "metadata": {},
   "outputs": [
    {
     "name": "stdout",
     "output_type": "stream",
     "text": [
      "aaaa ya tke re\n"
     ]
    }
   ],
   "source": [
    "print(std[::-2])"
   ]
  },
  {
   "cell_type": "code",
   "execution_count": 20,
   "id": "9b2bac55",
   "metadata": {},
   "outputs": [
    {
     "name": "stdout",
     "output_type": "stream",
     "text": [
      "era v\n"
     ]
    }
   ],
   "source": [
    "print(std[2:7])"
   ]
  },
  {
   "cell_type": "code",
   "execution_count": 21,
   "id": "1323ebd0",
   "metadata": {},
   "outputs": [
    {
     "name": "stdout",
     "output_type": "stream",
     "text": [
      "5\n"
     ]
    }
   ],
   "source": [
    "print(len(std[2:7]))"
   ]
  },
  {
   "cell_type": "code",
   "execution_count": 22,
   "id": "113cf932",
   "metadata": {},
   "outputs": [
    {
     "name": "stdout",
     "output_type": "stream",
     "text": [
      "veera venkata satya narayana\n"
     ]
    }
   ],
   "source": [
    "print(std[:])"
   ]
  },
  {
   "cell_type": "code",
   "execution_count": 23,
   "id": "1884d0a1",
   "metadata": {},
   "outputs": [
    {
     "name": "stdout",
     "output_type": "stream",
     "text": [
      "veera venkata satya narayana\n"
     ]
    }
   ],
   "source": [
    "print(std[::])"
   ]
  },
  {
   "cell_type": "code",
   "execution_count": 24,
   "id": "0d6ea599",
   "metadata": {},
   "outputs": [
    {
     "name": "stdout",
     "output_type": "stream",
     "text": [
      "anayaran aytas ataknev areev\n"
     ]
    }
   ],
   "source": [
    "print(std[::-1])"
   ]
  },
  {
   "cell_type": "markdown",
   "id": "e8d3b0e5",
   "metadata": {},
   "source": [
    "### String Methods"
   ]
  },
  {
   "cell_type": "markdown",
   "id": "2167d26b",
   "metadata": {},
   "source": [
    "### Ignore the coding part as for now"
   ]
  },
  {
   "cell_type": "code",
   "execution_count": 25,
   "id": "0d5e221a",
   "metadata": {},
   "outputs": [
    {
     "name": "stdout",
     "output_type": "stream",
     "text": [
      "KEZYA\n"
     ]
    }
   ],
   "source": [
    "s = \"kezya\"\n",
    "\n",
    "res = \"\"\n",
    "for i in s:\n",
    "    res += chr(ord(i) - 32)\n",
    "\n",
    "print(res)"
   ]
  },
  {
   "cell_type": "code",
   "execution_count": 26,
   "id": "ecaa8c87",
   "metadata": {},
   "outputs": [
    {
     "name": "stdout",
     "output_type": "stream",
     "text": [
      "VARSHA\n"
     ]
    }
   ],
   "source": [
    "s = \"varsha\"\n",
    "\n",
    "print(s.upper())"
   ]
  },
  {
   "cell_type": "code",
   "execution_count": 27,
   "id": "73281326",
   "metadata": {},
   "outputs": [
    {
     "name": "stdout",
     "output_type": "stream",
     "text": [
      "deepthi\n"
     ]
    }
   ],
   "source": [
    "s = \"DEEPTHI\"\n",
    "\n",
    "print(s.lower())"
   ]
  },
  {
   "cell_type": "code",
   "execution_count": 28,
   "id": "f364bc53",
   "metadata": {},
   "outputs": [
    {
     "name": "stdout",
     "output_type": "stream",
     "text": [
      "          Sai     Preetham                   \n"
     ]
    }
   ],
   "source": [
    "s = \"          Sai     Preetham                   \"\n",
    "\n",
    "print(s)"
   ]
  },
  {
   "cell_type": "code",
   "execution_count": 29,
   "id": "705b852c",
   "metadata": {},
   "outputs": [
    {
     "name": "stdout",
     "output_type": "stream",
     "text": [
      "Sai     Preetham\n"
     ]
    }
   ],
   "source": [
    "print(s.strip())"
   ]
  },
  {
   "cell_type": "code",
   "execution_count": 30,
   "id": "8c8ca363",
   "metadata": {},
   "outputs": [
    {
     "name": "stdout",
     "output_type": "stream",
     "text": [
      "['Sai', 'Preetham', 'Reddy', 'Udumula']\n"
     ]
    }
   ],
   "source": [
    "s = \"Sai Preetham Reddy Udumula\"\n",
    "\n",
    "print(s.split())        # default value for split is space."
   ]
  },
  {
   "cell_type": "code",
   "execution_count": 31,
   "id": "aa7203aa",
   "metadata": {},
   "outputs": [
    {
     "name": "stdout",
     "output_type": "stream",
     "text": [
      "['S', 'i Preeth', 'm Reddy Udumul', '']\n"
     ]
    }
   ],
   "source": [
    "print(s.split(\"a\"))"
   ]
  },
  {
   "cell_type": "code",
   "execution_count": 32,
   "id": "8e0befe0",
   "metadata": {},
   "outputs": [
    {
     "name": "stdout",
     "output_type": "stream",
     "text": [
      "S@i Preeth@m Reddy Udumul@\n"
     ]
    }
   ],
   "source": [
    "print(s.replace(\"a\", \"@\"))"
   ]
  },
  {
   "cell_type": "markdown",
   "id": "1214ea92",
   "metadata": {},
   "source": [
    "### String Concatination"
   ]
  },
  {
   "cell_type": "code",
   "execution_count": 33,
   "id": "7ca5e2d3",
   "metadata": {},
   "outputs": [
    {
     "name": "stdout",
     "output_type": "stream",
     "text": [
      "Sai PreethamReddy\n",
      "Sai Preetham Reddy\n"
     ]
    }
   ],
   "source": [
    "first_name = \"Sai Preetham\"\n",
    "last_name = \"Reddy\"\n",
    "\n",
    "print(first_name + last_name)\n",
    "print(first_name + \" \" + last_name)"
   ]
  },
  {
   "cell_type": "code",
   "execution_count": 34,
   "id": "873c01e1",
   "metadata": {},
   "outputs": [
    {
     "name": "stdout",
     "output_type": "stream",
     "text": [
      "Sai Preetham Reddy\n"
     ]
    }
   ],
   "source": [
    "full_name = first_name + \" \" + last_name\n",
    "\n",
    "print(full_name)"
   ]
  },
  {
   "cell_type": "code",
   "execution_count": 35,
   "id": "9a51e057",
   "metadata": {},
   "outputs": [
    {
     "name": "stdout",
     "output_type": "stream",
     "text": [
      "Hello Sai Preetham Reddy You are near to Silver Juiblee and Age is : 24\n"
     ]
    }
   ],
   "source": [
    "age = 24\n",
    "\n",
    "print(\"Hello\", full_name, \"You are near to Silver Juiblee and Age is :\", age)"
   ]
  },
  {
   "cell_type": "markdown",
   "id": "596e5481",
   "metadata": {},
   "source": [
    "### String Formatting"
   ]
  },
  {
   "cell_type": "code",
   "execution_count": 36,
   "id": "75d86d7d",
   "metadata": {},
   "outputs": [
    {
     "name": "stdout",
     "output_type": "stream",
     "text": [
      "Hello Sai Preetham Reddy, Your age is : 24\n"
     ]
    }
   ],
   "source": [
    "print(f\"Hello {full_name}, Your age is : {age}\")"
   ]
  },
  {
   "cell_type": "code",
   "execution_count": 37,
   "id": "9fc03818",
   "metadata": {},
   "outputs": [
    {
     "name": "stdout",
     "output_type": "stream",
     "text": [
      "Hello Sai Preetham Reddy, Your age is : 24.0\n"
     ]
    }
   ],
   "source": [
    "print(f\"Hello {full_name}, Your age is : {age:.1f}\")"
   ]
  },
  {
   "cell_type": "code",
   "execution_count": 38,
   "id": "6ee77003",
   "metadata": {},
   "outputs": [
    {
     "name": "stdout",
     "output_type": "stream",
     "text": [
      "Age is 34\n"
     ]
    }
   ],
   "source": [
    "print(f\"Age is {age + 10}\")"
   ]
  },
  {
   "cell_type": "markdown",
   "id": "ea08d31d",
   "metadata": {},
   "source": [
    "# String Methods"
   ]
  },
  {
   "cell_type": "code",
   "execution_count": 39,
   "id": "31e26d67",
   "metadata": {},
   "outputs": [
    {
     "data": {
      "text/plain": [
       "3"
      ]
     },
     "execution_count": 39,
     "metadata": {},
     "output_type": "execute_result"
    }
   ],
   "source": [
    "s = \"Kannaya\"\n",
    "\n",
    "s.count('a')"
   ]
  },
  {
   "cell_type": "code",
   "execution_count": 40,
   "id": "6c336910",
   "metadata": {},
   "outputs": [
    {
     "data": {
      "text/plain": [
       "1"
      ]
     },
     "execution_count": 40,
     "metadata": {},
     "output_type": "execute_result"
    }
   ],
   "source": [
    "s.count('ya')"
   ]
  },
  {
   "cell_type": "code",
   "execution_count": 41,
   "id": "1eb05fc6",
   "metadata": {},
   "outputs": [
    {
     "data": {
      "text/plain": [
       "0"
      ]
     },
     "execution_count": 41,
     "metadata": {},
     "output_type": "execute_result"
    }
   ],
   "source": [
    "s.count(\"ka\")"
   ]
  },
  {
   "cell_type": "code",
   "execution_count": 42,
   "id": "3ac1af42",
   "metadata": {},
   "outputs": [
    {
     "data": {
      "text/plain": [
       "1"
      ]
     },
     "execution_count": 42,
     "metadata": {},
     "output_type": "execute_result"
    }
   ],
   "source": [
    "s.count(\"Ka\")"
   ]
  },
  {
   "cell_type": "code",
   "execution_count": 43,
   "id": "90bccf7e",
   "metadata": {},
   "outputs": [
    {
     "data": {
      "text/plain": [
       "True"
      ]
     },
     "execution_count": 43,
     "metadata": {},
     "output_type": "execute_result"
    }
   ],
   "source": [
    "s.endswith('a')"
   ]
  },
  {
   "cell_type": "code",
   "execution_count": 44,
   "id": "c0ed3c9c",
   "metadata": {},
   "outputs": [
    {
     "data": {
      "text/plain": [
       "True"
      ]
     },
     "execution_count": 44,
     "metadata": {},
     "output_type": "execute_result"
    }
   ],
   "source": [
    "s.endswith(\"ya\")"
   ]
  },
  {
   "cell_type": "code",
   "execution_count": 45,
   "id": "8e282c8d",
   "metadata": {},
   "outputs": [
    {
     "data": {
      "text/plain": [
       "0"
      ]
     },
     "execution_count": 45,
     "metadata": {},
     "output_type": "execute_result"
    }
   ],
   "source": [
    "s.find(\"K\")"
   ]
  },
  {
   "cell_type": "code",
   "execution_count": 46,
   "id": "281d1346",
   "metadata": {},
   "outputs": [
    {
     "data": {
      "text/plain": [
       "1"
      ]
     },
     "execution_count": 46,
     "metadata": {},
     "output_type": "execute_result"
    }
   ],
   "source": [
    "s.find(\"a\")"
   ]
  },
  {
   "cell_type": "code",
   "execution_count": 48,
   "id": "49a9cb93",
   "metadata": {},
   "outputs": [
    {
     "data": {
      "text/plain": [
       "-1"
      ]
     },
     "execution_count": 48,
     "metadata": {},
     "output_type": "execute_result"
    }
   ],
   "source": [
    "s.find(\"aa\")"
   ]
  },
  {
   "cell_type": "code",
   "execution_count": 49,
   "id": "a1d4b488",
   "metadata": {},
   "outputs": [
    {
     "data": {
      "text/plain": [
       "2"
      ]
     },
     "execution_count": 49,
     "metadata": {},
     "output_type": "execute_result"
    }
   ],
   "source": [
    "s.find(\"nn\")"
   ]
  },
  {
   "cell_type": "code",
   "execution_count": 50,
   "id": "2003cd73",
   "metadata": {},
   "outputs": [
    {
     "data": {
      "text/plain": [
       "1"
      ]
     },
     "execution_count": 50,
     "metadata": {},
     "output_type": "execute_result"
    }
   ],
   "source": [
    "s.index(\"a\")"
   ]
  },
  {
   "cell_type": "code",
   "execution_count": 51,
   "id": "4c9b8b80",
   "metadata": {},
   "outputs": [],
   "source": [
    "# s.index(\"aa\")"
   ]
  },
  {
   "cell_type": "code",
   "execution_count": 52,
   "id": "7f500bdb",
   "metadata": {},
   "outputs": [],
   "source": [
    "s1 = \"Sai007\"\n",
    "s2 = \"SaiPreetham\"\n",
    "s3 = \"007\"\n",
    "s4 = \"Sai 007\""
   ]
  },
  {
   "cell_type": "code",
   "execution_count": 53,
   "id": "9b2c3992",
   "metadata": {},
   "outputs": [
    {
     "name": "stdout",
     "output_type": "stream",
     "text": [
      "True\n",
      "True\n",
      "True\n",
      "False\n"
     ]
    }
   ],
   "source": [
    "print(s1.isalnum())\n",
    "print(s2.isalnum())\n",
    "print(s3.isalnum())\n",
    "print(s4.isalnum())"
   ]
  },
  {
   "cell_type": "code",
   "execution_count": 54,
   "id": "386e64f6",
   "metadata": {},
   "outputs": [
    {
     "name": "stdout",
     "output_type": "stream",
     "text": [
      "False\n",
      "True\n",
      "False\n",
      "False\n"
     ]
    }
   ],
   "source": [
    "print(s1.isalpha())\n",
    "print(s2.isalpha())\n",
    "print(s3.isalpha())\n",
    "print(s4.isalpha())"
   ]
  },
  {
   "cell_type": "code",
   "execution_count": 55,
   "id": "5febab32",
   "metadata": {},
   "outputs": [
    {
     "name": "stdout",
     "output_type": "stream",
     "text": [
      "False\n",
      "False\n",
      "True\n",
      "False\n"
     ]
    }
   ],
   "source": [
    "print(s1.isnumeric())\n",
    "print(s2.isnumeric())\n",
    "print(s3.isnumeric())\n",
    "print(s4.isnumeric())"
   ]
  },
  {
   "cell_type": "code",
   "execution_count": 56,
   "id": "b5a9892f",
   "metadata": {},
   "outputs": [],
   "source": [
    "s5 = \"sai\"\n",
    "s6 = \"SAI\""
   ]
  },
  {
   "cell_type": "code",
   "execution_count": 57,
   "id": "906718db",
   "metadata": {},
   "outputs": [
    {
     "name": "stdout",
     "output_type": "stream",
     "text": [
      "False\n",
      "False\n",
      "False\n",
      "False\n",
      "True\n",
      "False\n"
     ]
    }
   ],
   "source": [
    "print(s1.islower())\n",
    "print(s2.islower())\n",
    "print(s3.islower())\n",
    "print(s4.islower())\n",
    "print(s5.islower())\n",
    "print(s6.islower())"
   ]
  },
  {
   "cell_type": "code",
   "execution_count": 58,
   "id": "9a0d1e02",
   "metadata": {},
   "outputs": [
    {
     "name": "stdout",
     "output_type": "stream",
     "text": [
      "False\n",
      "False\n",
      "False\n",
      "False\n",
      "False\n",
      "True\n"
     ]
    }
   ],
   "source": [
    "print(s1.isupper())\n",
    "print(s2.isupper())\n",
    "print(s3.isupper())\n",
    "print(s4.isupper())\n",
    "print(s5.isupper())\n",
    "print(s6.isupper())"
   ]
  },
  {
   "cell_type": "code",
   "execution_count": 59,
   "id": "0a4238f3",
   "metadata": {},
   "outputs": [
    {
     "name": "stdout",
     "output_type": "stream",
     "text": [
      "S-a-i\n"
     ]
    }
   ],
   "source": [
    "x = \"Sai\"\n",
    "\n",
    "print(\"-\".join(x))"
   ]
  },
  {
   "cell_type": "code",
   "execution_count": 60,
   "id": "31ab4322",
   "metadata": {},
   "outputs": [
    {
     "name": "stdout",
     "output_type": "stream",
     "text": [
      "S\n",
      "a\n",
      "i\n"
     ]
    }
   ],
   "source": [
    "for i in x:\n",
    "    print(i)"
   ]
  }
 ],
 "metadata": {
  "kernelspec": {
   "display_name": ".venv",
   "language": "python",
   "name": "python3"
  },
  "language_info": {
   "codemirror_mode": {
    "name": "ipython",
    "version": 3
   },
   "file_extension": ".py",
   "mimetype": "text/x-python",
   "name": "python",
   "nbconvert_exporter": "python",
   "pygments_lexer": "ipython3",
   "version": "3.13.7"
  }
 },
 "nbformat": 4,
 "nbformat_minor": 5
}
