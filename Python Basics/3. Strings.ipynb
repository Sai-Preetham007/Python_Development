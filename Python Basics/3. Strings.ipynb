{
 "cells": [
  {
   "cell_type": "code",
   "execution_count": 1,
   "id": "af602bdb",
   "metadata": {},
   "outputs": [
    {
     "name": "stdout",
     "output_type": "stream",
     "text": [
      "srujana\n"
     ]
    }
   ],
   "source": [
    "std_name = \"srujana\"\n",
    "\n",
    "print(std_name)"
   ]
  },
  {
   "cell_type": "markdown",
   "id": "d232ad47",
   "metadata": {},
   "source": [
    "### Accessing elements using index values"
   ]
  },
  {
   "cell_type": "code",
   "execution_count": 2,
   "id": "1cf09ddb",
   "metadata": {},
   "outputs": [
    {
     "name": "stdout",
     "output_type": "stream",
     "text": [
      "s\n"
     ]
    }
   ],
   "source": [
    "print(std_name[0])"
   ]
  },
  {
   "cell_type": "code",
   "execution_count": 3,
   "id": "a8141865",
   "metadata": {},
   "outputs": [
    {
     "name": "stdout",
     "output_type": "stream",
     "text": [
      "a\n"
     ]
    }
   ],
   "source": [
    "print(std_name[6])"
   ]
  },
  {
   "cell_type": "code",
   "execution_count": 4,
   "id": "74365a58",
   "metadata": {},
   "outputs": [
    {
     "name": "stdout",
     "output_type": "stream",
     "text": [
      "28\n"
     ]
    }
   ],
   "source": [
    "std = \"veera venkata satya narayana\"\n",
    "\n",
    "print(len(std))"
   ]
  },
  {
   "cell_type": "code",
   "execution_count": 5,
   "id": "4f5114f5",
   "metadata": {},
   "outputs": [
    {
     "name": "stdout",
     "output_type": "stream",
     "text": [
      "a\n"
     ]
    }
   ],
   "source": [
    "print(std[27])"
   ]
  },
  {
   "cell_type": "code",
   "execution_count": 6,
   "id": "b7c2f550",
   "metadata": {},
   "outputs": [
    {
     "name": "stdout",
     "output_type": "stream",
     "text": [
      "a\n"
     ]
    }
   ],
   "source": [
    "print(std[len(std) - 1])"
   ]
  },
  {
   "cell_type": "code",
   "execution_count": 7,
   "id": "71f803d1",
   "metadata": {},
   "outputs": [
    {
     "name": "stdout",
     "output_type": "stream",
     "text": [
      "a\n"
     ]
    }
   ],
   "source": [
    "print(std[-1])"
   ]
  },
  {
   "cell_type": "code",
   "execution_count": 8,
   "id": "81ce522d",
   "metadata": {},
   "outputs": [
    {
     "name": "stdout",
     "output_type": "stream",
     "text": [
      "n\n"
     ]
    }
   ],
   "source": [
    "print(std[-2])"
   ]
  },
  {
   "cell_type": "markdown",
   "id": "bc3543cd",
   "metadata": {},
   "source": [
    "### Accessing substring using slicing"
   ]
  },
  {
   "cell_type": "code",
   "execution_count": 9,
   "id": "735491c1",
   "metadata": {},
   "outputs": [
    {
     "name": "stdout",
     "output_type": "stream",
     "text": [
      "ve\n"
     ]
    }
   ],
   "source": [
    "print(std[0:2])"
   ]
  },
  {
   "cell_type": "code",
   "execution_count": 10,
   "id": "31efd0c7",
   "metadata": {},
   "outputs": [
    {
     "name": "stdout",
     "output_type": "stream",
     "text": [
      "ya nara\n"
     ]
    }
   ],
   "source": [
    "print(std[17:24])"
   ]
  },
  {
   "cell_type": "code",
   "execution_count": 11,
   "id": "d912003f",
   "metadata": {},
   "outputs": [
    {
     "name": "stdout",
     "output_type": "stream",
     "text": [
      "ayan\n"
     ]
    }
   ],
   "source": [
    "print(std[-5 : -1])"
   ]
  },
  {
   "cell_type": "code",
   "execution_count": 12,
   "id": "9f4d0951",
   "metadata": {},
   "outputs": [
    {
     "name": "stdout",
     "output_type": "stream",
     "text": [
      "\n"
     ]
    }
   ],
   "source": [
    "print(std[3:1])"
   ]
  },
  {
   "cell_type": "code",
   "execution_count": 13,
   "id": "c2ad6471",
   "metadata": {},
   "outputs": [
    {
     "name": "stdout",
     "output_type": "stream",
     "text": [
      "ra venkata satya naraya\n"
     ]
    }
   ],
   "source": [
    "print(std[3:-2])"
   ]
  },
  {
   "cell_type": "markdown",
   "id": "165c53a8",
   "metadata": {},
   "source": [
    "### Increment/Decrement"
   ]
  },
  {
   "cell_type": "code",
   "execution_count": 14,
   "id": "fc9e824c",
   "metadata": {},
   "outputs": [
    {
     "name": "stdout",
     "output_type": "stream",
     "text": [
      "veera venkata satya narayana\n"
     ]
    }
   ],
   "source": [
    "print(std)"
   ]
  },
  {
   "cell_type": "code",
   "execution_count": 15,
   "id": "29eb8adf",
   "metadata": {},
   "outputs": [
    {
     "name": "stdout",
     "output_type": "stream",
     "text": [
      "anayaran aytas ataknev aree\n"
     ]
    }
   ],
   "source": [
    "print(std[-1 : 0 : -1])"
   ]
  },
  {
   "cell_type": "code",
   "execution_count": 16,
   "id": "7152bf08",
   "metadata": {},
   "outputs": [
    {
     "name": "stdout",
     "output_type": "stream",
     "text": [
      "anayaran aytas ataknev areev\n"
     ]
    }
   ],
   "source": [
    "print(std[-1 : : -1])"
   ]
  },
  {
   "cell_type": "code",
   "execution_count": 17,
   "id": "dc1dd05e",
   "metadata": {},
   "outputs": [
    {
     "name": "stdout",
     "output_type": "stream",
     "text": [
      "anayaran aytas ataknev areev\n"
     ]
    }
   ],
   "source": [
    "print(std[ : : -1])"
   ]
  },
  {
   "cell_type": "code",
   "execution_count": 18,
   "id": "977dc5b9",
   "metadata": {},
   "outputs": [
    {
     "name": "stdout",
     "output_type": "stream",
     "text": [
      "veavnaastanryn\n"
     ]
    }
   ],
   "source": [
    "print(std[ : : 2])"
   ]
  },
  {
   "cell_type": "code",
   "execution_count": 19,
   "id": "cc26ef8c",
   "metadata": {},
   "outputs": [
    {
     "name": "stdout",
     "output_type": "stream",
     "text": [
      "aaaa ya tke re\n"
     ]
    }
   ],
   "source": [
    "print(std[::-2])"
   ]
  },
  {
   "cell_type": "code",
   "execution_count": 20,
   "id": "9b2bac55",
   "metadata": {},
   "outputs": [
    {
     "name": "stdout",
     "output_type": "stream",
     "text": [
      "era v\n"
     ]
    }
   ],
   "source": [
    "print(std[2:7])"
   ]
  },
  {
   "cell_type": "code",
   "execution_count": 21,
   "id": "1323ebd0",
   "metadata": {},
   "outputs": [
    {
     "name": "stdout",
     "output_type": "stream",
     "text": [
      "5\n"
     ]
    }
   ],
   "source": [
    "print(len(std[2:7]))"
   ]
  },
  {
   "cell_type": "code",
   "execution_count": 22,
   "id": "113cf932",
   "metadata": {},
   "outputs": [
    {
     "name": "stdout",
     "output_type": "stream",
     "text": [
      "veera venkata satya narayana\n"
     ]
    }
   ],
   "source": [
    "print(std[:])"
   ]
  },
  {
   "cell_type": "code",
   "execution_count": 23,
   "id": "1884d0a1",
   "metadata": {},
   "outputs": [
    {
     "name": "stdout",
     "output_type": "stream",
     "text": [
      "veera venkata satya narayana\n"
     ]
    }
   ],
   "source": [
    "print(std[::])"
   ]
  },
  {
   "cell_type": "code",
   "execution_count": 24,
   "id": "0d6ea599",
   "metadata": {},
   "outputs": [
    {
     "name": "stdout",
     "output_type": "stream",
     "text": [
      "anayaran aytas ataknev areev\n"
     ]
    }
   ],
   "source": [
    "print(std[::-1])"
   ]
  },
  {
   "cell_type": "markdown",
   "id": "e8d3b0e5",
   "metadata": {},
   "source": [
    "### String Methods"
   ]
  },
  {
   "cell_type": "markdown",
   "id": "2167d26b",
   "metadata": {},
   "source": [
    "### Ignore the coding part as for now"
   ]
  },
  {
   "cell_type": "code",
   "execution_count": 25,
   "id": "0d5e221a",
   "metadata": {},
   "outputs": [
    {
     "name": "stdout",
     "output_type": "stream",
     "text": [
      "KEZYA\n"
     ]
    }
   ],
   "source": [
    "s = \"kezya\"\n",
    "\n",
    "res = \"\"\n",
    "for i in s:\n",
    "    res += chr(ord(i) - 32)\n",
    "\n",
    "print(res)"
   ]
  },
  {
   "cell_type": "code",
   "execution_count": null,
   "id": "ecaa8c87",
   "metadata": {},
   "outputs": [
    {
     "data": {
      "text/plain": [
       "'VARSHA'"
      ]
     },
     "execution_count": 26,
     "metadata": {},
     "output_type": "execute_result"
    }
   ],
   "source": [
    "s = \"varsha\"\n",
    "\n",
    "print(s.upper())"
   ]
  },
  {
   "cell_type": "code",
   "execution_count": null,
   "id": "73281326",
   "metadata": {},
   "outputs": [
    {
     "data": {
      "text/plain": [
       "'deepthi'"
      ]
     },
     "execution_count": 27,
     "metadata": {},
     "output_type": "execute_result"
    }
   ],
   "source": [
    "s = \"DEEPTHI\"\n",
    "\n",
    "print(s.lower())"
   ]
  },
  {
   "cell_type": "code",
   "execution_count": 28,
   "id": "f364bc53",
   "metadata": {},
   "outputs": [
    {
     "name": "stdout",
     "output_type": "stream",
     "text": [
      "          Sai     Preetham                   \n"
     ]
    }
   ],
   "source": [
    "s = \"          Sai     Preetham                   \"\n",
    "\n",
    "print(s)"
   ]
  },
  {
   "cell_type": "code",
   "execution_count": 29,
   "id": "705b852c",
   "metadata": {},
   "outputs": [
    {
     "name": "stdout",
     "output_type": "stream",
     "text": [
      "Sai     Preetham\n"
     ]
    }
   ],
   "source": [
    "print(s.strip())"
   ]
  },
  {
   "cell_type": "code",
   "execution_count": null,
   "id": "8c8ca363",
   "metadata": {},
   "outputs": [
    {
     "name": "stdout",
     "output_type": "stream",
     "text": [
      "['Sai', 'Preetham', 'Reddy', 'Udumula']\n"
     ]
    }
   ],
   "source": [
    "s = \"Sai Preetham Reddy Udumula\"\n",
    "\n",
    "print(s.split())        # default value for split is space."
   ]
  },
  {
   "cell_type": "code",
   "execution_count": 33,
   "id": "aa7203aa",
   "metadata": {},
   "outputs": [
    {
     "name": "stdout",
     "output_type": "stream",
     "text": [
      "['S', 'i Preeth', 'm Reddy Udumul', '']\n"
     ]
    }
   ],
   "source": [
    "print(s.split(\"a\"))"
   ]
  },
  {
   "cell_type": "code",
   "execution_count": 32,
   "id": "8e0befe0",
   "metadata": {},
   "outputs": [
    {
     "name": "stdout",
     "output_type": "stream",
     "text": [
      "S@i Preeth@m Reddy Udumul@\n"
     ]
    }
   ],
   "source": [
    "print(s.replace(\"a\", \"@\"))"
   ]
  },
  {
   "cell_type": "markdown",
   "id": "1214ea92",
   "metadata": {},
   "source": [
    "### String Concatination"
   ]
  },
  {
   "cell_type": "code",
   "execution_count": 41,
   "id": "7ca5e2d3",
   "metadata": {},
   "outputs": [
    {
     "name": "stdout",
     "output_type": "stream",
     "text": [
      "Sai PreethamReddy\n",
      "Sai Preetham Reddy\n"
     ]
    }
   ],
   "source": [
    "first_name = \"Sai Preetham\"\n",
    "last_name = \"Reddy\"\n",
    "\n",
    "print(first_name + last_name)\n",
    "print(first_name + \" \" + last_name)"
   ]
  },
  {
   "cell_type": "code",
   "execution_count": 38,
   "id": "873c01e1",
   "metadata": {},
   "outputs": [
    {
     "name": "stdout",
     "output_type": "stream",
     "text": [
      "Sai Preetham\n"
     ]
    }
   ],
   "source": [
    "full_name = first_name + \" \" + last_name\n",
    "\n",
    "print(full_name)"
   ]
  },
  {
   "cell_type": "code",
   "execution_count": 49,
   "id": "9a51e057",
   "metadata": {},
   "outputs": [
    {
     "name": "stdout",
     "output_type": "stream",
     "text": [
      "Hello Sai Preetham You are near to Silver Juiblee and Age is : 24\n"
     ]
    }
   ],
   "source": [
    "age = 24\n",
    "\n",
    "print(\"Hello\", full_name, \"You are near to Silver Juiblee and Age is :\", age)"
   ]
  },
  {
   "cell_type": "markdown",
   "id": "596e5481",
   "metadata": {},
   "source": [
    "### String Formatting"
   ]
  },
  {
   "cell_type": "code",
   "execution_count": 55,
   "id": "75d86d7d",
   "metadata": {},
   "outputs": [
    {
     "name": "stdout",
     "output_type": "stream",
     "text": [
      "Hello Sai Preetham, Your age is : 24\n"
     ]
    }
   ],
   "source": [
    "print(f\"Hello {full_name}, Your age is : {age}\")"
   ]
  },
  {
   "cell_type": "code",
   "execution_count": 58,
   "id": "9fc03818",
   "metadata": {},
   "outputs": [
    {
     "name": "stdout",
     "output_type": "stream",
     "text": [
      "Hello Sai Preetham, Your age is : 24.0\n"
     ]
    }
   ],
   "source": [
    "print(f\"Hello {full_name}, Your age is : {age:.1f}\")"
   ]
  },
  {
   "cell_type": "code",
   "execution_count": 60,
   "id": "6ee77003",
   "metadata": {},
   "outputs": [
    {
     "name": "stdout",
     "output_type": "stream",
     "text": [
      "Age is 34\n"
     ]
    }
   ],
   "source": [
    "print(f\"Age is {age + 10}\")"
   ]
  }
 ],
 "metadata": {
  "kernelspec": {
   "display_name": ".venv",
   "language": "python",
   "name": "python3"
  },
  "language_info": {
   "codemirror_mode": {
    "name": "ipython",
    "version": 3
   },
   "file_extension": ".py",
   "mimetype": "text/x-python",
   "name": "python",
   "nbconvert_exporter": "python",
   "pygments_lexer": "ipython3",
   "version": "3.13.7"
  }
 },
 "nbformat": 4,
 "nbformat_minor": 5
}
